{
 "cells": [
  {
   "cell_type": "code",
   "execution_count": null,
   "metadata": {},
   "outputs": [],
   "source": [
    "    "
   ]
  },
  {
   "cell_type": "markdown",
   "metadata": {},
   "source": [
    "# **Experiment 10 Ensemble Learning**\n",
    "The steps to do this experiment:\n",
    "1. We need to import the necessary libraries (here we are importing all of lab experiment libraries).\n",
    "2. For both RandomForest and AdaBooster: we need to do data preprocessing.\n",
    "3. For both randomforst and Adabooster: choosing independen(X) and dependent(Y) variable.\n",
    "4. For random forest: creating models with different parameters, finding best parameters and evaluating.\n",
    "5. For adabooster: creating models with different parameters, finding best parameters and evaluating\n",
    "\n",
    "The codes for each step is below:"
   ]
  },
  {
   "cell_type": "code",
   "execution_count": null,
   "metadata": {},
   "outputs": [],
   "source": [
    "import pandas as pd\n",
    "import numpy as np\n",
    "from sklearn.model_selection import train_test_split\n",
    "from sklearn.ensemble import RandomForestClassifier, AdaBoostClassifier\n",
    "from sklearn.metrics import accuracy_score, precision_score, recall_score, f1_score, classification_report,confusion_matrix\n",
    "from sklearn.impute import SimpleImputer\n",
    "from sklearn.preprocessing import LabelEncoder"
   ]
  },
  {
   "cell_type": "code",
   "execution_count": null,
   "metadata": {},
   "outputs": [],
   "source": [
    "df=pd.read_csv(\"Iris.csv\")\n",
    "imputer = SimpleImputer(missing_values=np.nan, strategy = \"mean\")\n",
    "df[df.select_dtypes(include=[np.number]).columns]=imputer.fit_transform(df.select_dtypes(include=[np.number]))\n",
    "if df['Species'].dtype=='object':\n",
    "    encoder = LabelEncoder()\n",
    "    df['Species']=encoder.fit_transform(df['Species'])"
   ]
  },
  {
   "cell_type": "code",
   "execution_count": null,
   "metadata": {},
   "outputs": [],
   "source": [
    "X = df.drop('Species', axis=1)\n",
    "Y=df['Species']\n",
    "X_train, X_test, Y_train, Y_test= train_test_split(X, Y, test_size=0.2, random_state=42)"
   ]
  },
  {
   "cell_type": "code",
   "execution_count": null,
   "metadata": {},
   "outputs": [],
   "source": [
    "rf_params = [\n",
    "    {'n_estimators': 100, 'criterion': 'gini', 'max_depth': None, 'max_features': 'auto'},\n",
    "    {'n_estimators': 150, 'criterion': 'entropy', 'max_depth': 10, 'max_features': 'sqrt'},\n",
    "    {'n_estimators': 200, 'criterion': 'gini', 'max_depth': 20, 'max_features': 'log2'},\n",
    "    {'n_estimators': 100, 'criterion': 'entropy', 'max_depth': None, 'max_features': 'auto'},\n",
    "]\n",
    "for params in rf_params:\n",
    "    clf_rf = RandomForestClassifier(n_estimators=10, random_state=0)\n",
    "    clf_rf.fit(X_train, Y_train)\n",
    "    Y_pred=clf_rf.predict(X_test)\n",
    "    print(\"Random Forest Parameters: \", params)\n",
    "    print(\"Confusion Matrix: \\n\", confusion_matrix(Y_test, Y_pred))\n",
    "    print(\"Accuracy: \\n\", accuracy_score(Y_test, Y_pred))\n",
    "    print('Precision: \\n', precision_score(Y_test, Y_pred, average='macro'))\n",
    "    print(\"F1 Score: \\n\", f1_score(Y_test, Y_pred, average='macro'))\n",
    "    print(\"Recall: \\n\", recall_score(Y_test, Y_pred, average='macro'))\n",
    "    print(\"classification_report: \\n\", classification_report(Y_test, Y_pred))"
   ]
  },
  {
   "cell_type": "code",
   "execution_count": null,
   "metadata": {},
   "outputs": [],
   "source": [
    "ab_params=[\n",
    "    {'n_estimators': 50, 'learning_rate': 1.0, 'algorithm': 'SAMME.R'},\n",
    "    {'n_estimators': 100, 'learning_rate': 0.5, 'algorithm': 'SAMME'},\n",
    "    {'n_estimators': 150, 'learning_rate': 0.75, 'algorithm': 'SAMME.R'},\n",
    "    {'n_estimators': 200, 'learning_rate': 1.0, 'algorithm': 'SAMME'}, \n",
    "] \n",
    "for params in ab_params:\n",
    "    clf_ab=AdaBoostClassifier(**params, random_state=0)\n",
    "    clf_ab.fit(X_train, Y_train)\n",
    "    Y_pred=clf_ab.predict(X_test)\n",
    "    print(\"AdaBooster Paramter: \", params)\n",
    "    print(\"Confusion Matrix: \\n\", confusion_matrix(Y_test, Y_pred))\n",
    "    print(\"Accuracy Score: \\n\", accuracy_score(Y_test, Y_pred))\n",
    "    print(\"Precision Score: \\n\", precision_score(Y_test, Y_pred, average='macro'))\n",
    "    print(\"Recall Score: \\n\", recall_score(Y_test, Y_pred, average='macro'))\n",
    "    print(\"F1 Score: \\n\", f1_score(Y_test, Y_pred, average='macro'))\n",
    "    print(\"Classification Report: \\n\", classification_report(Y_test, Y_pred))"
   ]
  }
 ],
 "metadata": {
  "language_info": {
   "name": "python"
  }
 },
 "nbformat": 4,
 "nbformat_minor": 2
}
