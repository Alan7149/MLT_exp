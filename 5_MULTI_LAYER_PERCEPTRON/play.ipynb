{
 "cells": [
  {
   "cell_type": "code",
   "execution_count": 36,
   "metadata": {},
   "outputs": [],
   "source": [
    "import pandas as pd\n",
    "from sklearn.preprocessing import LabelEncoder\n",
    "from sklearn.neural_network import MLPClassifier\n",
    "from sklearn.model_selection import train_test_split\n",
    "from sklearn.metrics import accuracy_score,classification_report,r2_score\n",
    "from sklearn.neural_network import MLPRegressor\n",
    "import numpy as np\n",
    "from sklearn.svm import SVC,SVR"
   ]
  },
  {
   "cell_type": "code",
   "execution_count": 25,
   "metadata": {},
   "outputs": [
    {
     "name": "stderr",
     "output_type": "stream",
     "text": [
      "/home/remo/Documents/MLT_Shortworks/MLT_exp/1_EXPLORATORY_DATA_ANALYSIS/.conda/lib/python3.11/site-packages/sklearn/neural_network/_multilayer_perceptron.py:1101: DataConversionWarning: A column-vector y was passed when a 1d array was expected. Please change the shape of y to (n_samples, ), for example using ravel().\n",
      "  y = column_or_1d(y, warn=True)\n"
     ]
    },
    {
     "name": "stdout",
     "output_type": "stream",
     "text": [
      "Accuracy: 1.0\n",
      "Classification Report:\n",
      "               precision    recall  f1-score   support\n",
      "\n",
      "           0       1.00      1.00      1.00         9\n",
      "           1       1.00      1.00      1.00        11\n",
      "           2       1.00      1.00      1.00        10\n",
      "\n",
      "    accuracy                           1.00        30\n",
      "   macro avg       1.00      1.00      1.00        30\n",
      "weighted avg       1.00      1.00      1.00        30\n",
      "\n"
     ]
    },
    {
     "name": "stderr",
     "output_type": "stream",
     "text": [
      "/home/remo/Documents/MLT_Shortworks/MLT_exp/1_EXPLORATORY_DATA_ANALYSIS/.conda/lib/python3.11/site-packages/sklearn/neural_network/_multilayer_perceptron.py:691: ConvergenceWarning: Stochastic Optimizer: Maximum iterations (1000) reached and the optimization hasn't converged yet.\n",
      "  warnings.warn(\n"
     ]
    }
   ],
   "source": [
    "df = pd.read_csv(\"iris.csv\") # Get the data\n",
    "encoder = LabelEncoder() # output should be numerical so u know what to do\n",
    "df['variety'] = encoder.fit_transform(df['variety'])\n",
    "X = df.iloc[:,:-1] # set up the stage for fire\n",
    "y = df.iloc[:,-1:]\n",
    "\n",
    "X_train, X_test,y_train,y_test = train_test_split(X,y,train_size=0.8) #put the thing in the holes\n",
    "X_test.shape\n",
    "\n",
    "mlp = MLPClassifier(hidden_layer_sizes=(10,),max_iter=1000) # just call it\n",
    "mlp.fit(X_train,y_train) # just do it \n",
    "\n",
    "y_pred = mlp.predict(X_test) # ahh now don't ask what is this \n",
    "print(\"Accuracy:\", accuracy_score(y_test, y_pred)) # Done too many times\n",
    "print(\"Classification Report:\\n\", classification_report(y_test, y_pred))"
   ]
  },
  {
   "cell_type": "code",
   "execution_count": 32,
   "metadata": {},
   "outputs": [
    {
     "name": "stdout",
     "output_type": "stream",
     "text": [
      "Regression R^2 Score: 0.9313314557336488\n"
     ]
    },
    {
     "name": "stderr",
     "output_type": "stream",
     "text": [
      "/home/remo/Documents/MLT_Shortworks/MLT_exp/1_EXPLORATORY_DATA_ANALYSIS/.conda/lib/python3.11/site-packages/sklearn/neural_network/_multilayer_perceptron.py:1624: DataConversionWarning: A column-vector y was passed when a 1d array was expected. Please change the shape of y to (n_samples, ), for example using ravel().\n",
      "  y = column_or_1d(y, warn=True)\n"
     ]
    }
   ],
   "source": [
    "mlp_reg = MLPRegressor(hidden_layer_sizes=(10,), max_iter=1000)\n",
    "mlp_reg.fit(X_test,y_test)\n",
    "y_pred = mlp_reg.predict(X_test)\n",
    "print(\"Regression R^2 Score:\", r2_score(y_test,y_pred))\n"
   ]
  },
  {
   "cell_type": "code",
   "execution_count": 33,
   "metadata": {},
   "outputs": [],
   "source": [
    "# ok u cannot make a accury of 1 more better so play the game\n",
    "# i mean tweak the value and run the values and show how u made it better\n",
    "# :) ReMo advices for free .... so now u know what to do from the next one so me skipping it"
   ]
  },
  {
   "cell_type": "code",
   "execution_count": 35,
   "metadata": {},
   "outputs": [
    {
     "name": "stdout",
     "output_type": "stream",
     "text": [
      "SVM Accuracy: 1.0\n",
      "SVM Classification Report:\n",
      "               precision    recall  f1-score   support\n",
      "\n",
      "           0       1.00      1.00      1.00         9\n",
      "           1       1.00      1.00      1.00        11\n",
      "           2       1.00      1.00      1.00        10\n",
      "\n",
      "    accuracy                           1.00        30\n",
      "   macro avg       1.00      1.00      1.00        30\n",
      "weighted avg       1.00      1.00      1.00        30\n",
      "\n"
     ]
    },
    {
     "name": "stderr",
     "output_type": "stream",
     "text": [
      "/home/remo/Documents/MLT_Shortworks/MLT_exp/1_EXPLORATORY_DATA_ANALYSIS/.conda/lib/python3.11/site-packages/sklearn/utils/validation.py:1300: DataConversionWarning: A column-vector y was passed when a 1d array was expected. Please change the shape of y to (n_samples, ), for example using ravel().\n",
      "  y = column_or_1d(y, warn=True)\n"
     ]
    }
   ],
   "source": [
    "svm_clf = SVC(kernel='linear')\n",
    "svm_clf.fit(X_train,y_train)\n",
    "y_pred_svm = svm_clf.predict(X_test)\n",
    "print(\"SVM Accuracy:\", accuracy_score(y_test, y_pred_svm))\n",
    "print(\"SVM Classification Report:\\n\", classification_report(y_test, y_pred_svm))"
   ]
  },
  {
   "cell_type": "code",
   "execution_count": 39,
   "metadata": {},
   "outputs": [
    {
     "name": "stdout",
     "output_type": "stream",
     "text": [
      "SVM Regression R^2 Score: 0.9166763363780402\n"
     ]
    },
    {
     "name": "stderr",
     "output_type": "stream",
     "text": [
      "/home/remo/Documents/MLT_Shortworks/MLT_exp/1_EXPLORATORY_DATA_ANALYSIS/.conda/lib/python3.11/site-packages/sklearn/utils/validation.py:1300: DataConversionWarning: A column-vector y was passed when a 1d array was expected. Please change the shape of y to (n_samples, ), for example using ravel().\n",
      "  y = column_or_1d(y, warn=True)\n"
     ]
    }
   ],
   "source": [
    "svm_reg = SVR(kernel='linear')\n",
    "svm_reg.fit(X_train,y_train)\n",
    "y_pred_svm_reg = svm_reg.predict(X_test)\n",
    "print(\"SVM Regression R^2 Score:\", r2_score(y_test,y_pred_svm_reg))\n"
   ]
  },
  {
   "cell_type": "code",
   "execution_count": 40,
   "metadata": {},
   "outputs": [],
   "source": [
    "# See just play with the value and say u improved it simple dont take too much\n",
    "# tension there are better things to learn"
   ]
  }
 ],
 "metadata": {
  "kernelspec": {
   "display_name": "Python 3",
   "language": "python",
   "name": "python3"
  },
  "language_info": {
   "codemirror_mode": {
    "name": "ipython",
    "version": 3
   },
   "file_extension": ".py",
   "mimetype": "text/x-python",
   "name": "python",
   "nbconvert_exporter": "python",
   "pygments_lexer": "ipython3",
   "version": "3.11.8"
  }
 },
 "nbformat": 4,
 "nbformat_minor": 2
}
